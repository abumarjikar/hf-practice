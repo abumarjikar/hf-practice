{
  "nbformat": 4,
  "nbformat_minor": 0,
  "metadata": {
    "colab": {
      "name": "HuggingFace_pipeline().ipynb",
      "provenance": [],
      "authorship_tag": "ABX9TyNODfCvjlKSfkHtOcegdWEv",
      "include_colab_link": true
    },
    "kernelspec": {
      "name": "python3",
      "display_name": "Python 3"
    },
    "language_info": {
      "name": "python"
    }
  },
  "cells": [
    {
      "cell_type": "markdown",
      "metadata": {
        "id": "view-in-github",
        "colab_type": "text"
      },
      "source": [
        "<a href=\"https://colab.research.google.com/github/abumarjikar/hf-practice/blob/main/HuggingFace_pipeline().ipynb\" target=\"_parent\"><img src=\"https://colab.research.google.com/assets/colab-badge.svg\" alt=\"Open In Colab\"/></a>"
      ]
    },
    {
      "cell_type": "code",
      "execution_count": 15,
      "metadata": {
        "colab": {
          "base_uri": "https://localhost:8080/"
        },
        "id": "MY_kgbXWdQL8",
        "outputId": "c42f2351-2456-4ff5-fe6c-975417ee402e"
      },
      "outputs": [
        {
          "output_type": "stream",
          "name": "stderr",
          "text": [
            "No model was supplied, defaulted to distilbert-base-uncased-finetuned-sst-2-english (https://huggingface.co/distilbert-base-uncased-finetuned-sst-2-english)\n"
          ]
        },
        {
          "output_type": "execute_result",
          "data": {
            "text/plain": [
              "[{'label': 'NEGATIVE', 'score': 0.9997630715370178},\n",
              " {'label': 'POSITIVE', 'score': 0.9958556294441223}]"
            ]
          },
          "metadata": {},
          "execution_count": 15
        }
      ],
      "source": [
        "from transformers import pipeline\n",
        "classifier = pipeline(\"sentiment-analysis\")\n",
        "classifier([\"Today i am not feeling well.\",\"I am glad that i am learning huggingface.\"])"
      ]
    },
    {
      "cell_type": "code",
      "source": [
        "feature_extractor = pipeline(\"feature-extraction\")\n",
        "feature_extractor(\"I love my India.\")"
      ],
      "metadata": {
        "id": "pB4WkAOuixc5"
      },
      "execution_count": null,
      "outputs": []
    },
    {
      "cell_type": "code",
      "source": [
        "neR = pipeline(\"ner\")\n",
        "neR(\"I love India, I am CEO of Facebook.\")"
      ],
      "metadata": {
        "colab": {
          "base_uri": "https://localhost:8080/"
        },
        "id": "CosMOKBAjkWP",
        "outputId": "b9438434-fea2-42c9-d3b2-e335d8f6e93d"
      },
      "execution_count": 21,
      "outputs": [
        {
          "output_type": "stream",
          "name": "stderr",
          "text": [
            "No model was supplied, defaulted to dbmdz/bert-large-cased-finetuned-conll03-english (https://huggingface.co/dbmdz/bert-large-cased-finetuned-conll03-english)\n"
          ]
        },
        {
          "output_type": "execute_result",
          "data": {
            "text/plain": [
              "[{'end': 12,\n",
              "  'entity': 'I-LOC',\n",
              "  'index': 3,\n",
              "  'score': 0.9996457,\n",
              "  'start': 7,\n",
              "  'word': 'India'},\n",
              " {'end': 34,\n",
              "  'entity': 'I-ORG',\n",
              "  'index': 9,\n",
              "  'score': 0.9987054,\n",
              "  'start': 26,\n",
              "  'word': 'Facebook'}]"
            ]
          },
          "metadata": {},
          "execution_count": 21
        }
      ]
    },
    {
      "cell_type": "code",
      "source": [
        "classifier = pipeline(\"zero-shot-classification\")\n",
        "classifier(\n",
        "    \"This is my india and india is my country.\",\n",
        "    candidate_labels=[\"Emotional\", \"National\"]\n",
        ")"
      ],
      "metadata": {
        "colab": {
          "base_uri": "https://localhost:8080/"
        },
        "id": "EIQljLXIj6XD",
        "outputId": "aefd7259-5348-4129-ad75-e9365a88987e"
      },
      "execution_count": 25,
      "outputs": [
        {
          "output_type": "stream",
          "name": "stderr",
          "text": [
            "No model was supplied, defaulted to facebook/bart-large-mnli (https://huggingface.co/facebook/bart-large-mnli)\n"
          ]
        },
        {
          "output_type": "execute_result",
          "data": {
            "text/plain": [
              "{'labels': ['National', 'Emotional'],\n",
              " 'scores': [0.5570379495620728, 0.44296208024024963],\n",
              " 'sequence': 'This is my india and india is my country.'}"
            ]
          },
          "metadata": {},
          "execution_count": 25
        }
      ]
    },
    {
      "cell_type": "code",
      "source": [
        "text_generator = pipeline(\"text-generation\")\n",
        "text_generator(\n",
        "    \"I love India because\",\n",
        "    num_return_sequences=2,\n",
        "    max_length =20\n",
        "    )"
      ],
      "metadata": {
        "id": "9DruMdlonaAl"
      },
      "execution_count": null,
      "outputs": []
    },
    {
      "cell_type": "code",
      "source": [
        "#Bellow Examples will be focusing on using model from model hub\n",
        "text_generation = pipeline(\"text-generation\", model=\"distilgpt2\")\n",
        "text_generation(\"I love making new friends because\")"
      ],
      "metadata": {
        "colab": {
          "base_uri": "https://localhost:8080/"
        },
        "id": "B0JeTUsLs991",
        "outputId": "269d2d7b-e674-473a-b56c-236576eac7b2"
      },
      "execution_count": 35,
      "outputs": [
        {
          "output_type": "stream",
          "name": "stderr",
          "text": [
            "The attention mask and the pad token id were not set. As a consequence, you may observe unexpected behavior. Please pass your input's `attention_mask` to obtain reliable results.\n",
            "Setting `pad_token_id` to `eos_token_id`:50256 for open-end generation.\n"
          ]
        },
        {
          "output_type": "execute_result",
          "data": {
            "text/plain": [
              "[{'generated_text': 'I love making new friends because of their kindness, they are always sharing the benefits of my generosity. I am so thankful that I get more than I could take advantage of. It is extremely satisfying for me to come home and be here and do as'}]"
            ]
          },
          "metadata": {},
          "execution_count": 35
        }
      ]
    },
    {
      "cell_type": "code",
      "source": [
        "mask_filling = pipeline(\"fill-mask\")\n",
        "mask_filling(\"India is very <mask> country.\")"
      ],
      "metadata": {
        "colab": {
          "base_uri": "https://localhost:8080/"
        },
        "id": "JGIsw8530NQ2",
        "outputId": "8ff7555c-164c-43f8-9e4d-f3b13ab3af4a"
      },
      "execution_count": 39,
      "outputs": [
        {
          "output_type": "stream",
          "name": "stderr",
          "text": [
            "No model was supplied, defaulted to distilroberta-base (https://huggingface.co/distilroberta-base)\n"
          ]
        },
        {
          "output_type": "execute_result",
          "data": {
            "text/plain": [
              "[{'score': 0.08260385692119598,\n",
              "  'sequence': 'India is very tolerant country.',\n",
              "  'token': 32836,\n",
              "  'token_str': ' tolerant'},\n",
              " {'score': 0.062467653304338455,\n",
              "  'sequence': 'India is very poor country.',\n",
              "  'token': 2129,\n",
              "  'token_str': ' poor'},\n",
              " {'score': 0.039092861115932465,\n",
              "  'sequence': 'India is very democratic country.',\n",
              "  'token': 7368,\n",
              "  'token_str': ' democratic'},\n",
              " {'score': 0.038596831262111664,\n",
              "  'sequence': 'India is very backward country.',\n",
              "  'token': 18173,\n",
              "  'token_str': ' backward'},\n",
              " {'score': 0.03754149377346039,\n",
              "  'sequence': 'India is very conservative country.',\n",
              "  'token': 3354,\n",
              "  'token_str': ' conservative'}]"
            ]
          },
          "metadata": {},
          "execution_count": 39
        }
      ]
    },
    {
      "cell_type": "code",
      "source": [
        "translation = pipeline(\"translation\", model=\"Helsinki-NLP/opus-mt-hi-en\")\n",
        "translation(\"मैं अपने भारत से प्यार करता हूँ\")"
      ],
      "metadata": {
        "colab": {
          "base_uri": "https://localhost:8080/"
        },
        "id": "eDaycICx6lvP",
        "outputId": "4905a06c-605f-4d0a-9193-c08c9768e4c4"
      },
      "execution_count": 42,
      "outputs": [
        {
          "output_type": "stream",
          "name": "stderr",
          "text": [
            "/usr/local/lib/python3.7/dist-packages/transformers/models/marian/tokenization_marian.py:198: UserWarning: Recommended: pip install sacremoses.\n",
            "  warnings.warn(\"Recommended: pip install sacremoses.\")\n"
          ]
        },
        {
          "output_type": "execute_result",
          "data": {
            "text/plain": [
              "[{'translation_text': 'I love my India'}]"
            ]
          },
          "metadata": {},
          "execution_count": 42
        }
      ]
    },
    {
      "cell_type": "code",
      "source": [
        "qa = pipeline(\"question-answering\")\n",
        "qa(\"What is elasticsearch ?\",\"The short version is that we help everyone find what they need faster—from employees who need documents from your intranet to customers browsing online for the perfect pair of shoes. But the more technical version goes a little more like this:Elasticsearch is a distributed, free and open search and analytics engine for all types of data, including textual, numerical, geospatial, structured, and unstructured. Elasticsearch is built on Apache Lucene and was first released in 2010 by Elasticsearch N.V. (now known as Elastic). Known for its simple REST APIs, distributed nature, speed, and scalability, Elasticsearch is the central component of the Elastic Stack, a set of free and open tools for data ingestion, enrichment, storage, analysis, and visualization. Commonly referred to as the ELK Stack (after Elasticsearch, Logstash, and Kibana), the Elastic Stack now includes a rich collection of lightweight shipping agents known as Beats for sending data to Elasticsearch. \")"
      ],
      "metadata": {
        "colab": {
          "base_uri": "https://localhost:8080/"
        },
        "id": "Dj4iQ1cT4nM3",
        "outputId": "c2261269-2097-48a2-a55b-a2e6d9f379da"
      },
      "execution_count": 38,
      "outputs": [
        {
          "output_type": "stream",
          "name": "stderr",
          "text": [
            "No model was supplied, defaulted to distilbert-base-cased-distilled-squad (https://huggingface.co/distilbert-base-cased-distilled-squad)\n"
          ]
        },
        {
          "output_type": "execute_result",
          "data": {
            "text/plain": [
              "{'answer': 'a distributed, free and open search and analytics engine',\n",
              " 'end': 316,\n",
              " 'score': 0.4294689893722534,\n",
              " 'start': 260}"
            ]
          },
          "metadata": {},
          "execution_count": 38
        }
      ]
    }
  ]
}