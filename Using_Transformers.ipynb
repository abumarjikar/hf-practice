{
  "nbformat": 4,
  "nbformat_minor": 0,
  "metadata": {
    "colab": {
      "name": "Using_Transformers.ipynb",
      "provenance": [],
      "collapsed_sections": [],
      "authorship_tag": "ABX9TyNY6pLmvJzUVYjFwa3dpImd",
      "include_colab_link": true
    },
    "kernelspec": {
      "name": "python3",
      "display_name": "Python 3"
    },
    "language_info": {
      "name": "python"
    }
  },
  "cells": [
    {
      "cell_type": "markdown",
      "metadata": {
        "id": "view-in-github",
        "colab_type": "text"
      },
      "source": [
        "<a href=\"https://colab.research.google.com/github/abumarjikar/hf-practice/blob/main/Using_Transformers.ipynb\" target=\"_parent\"><img src=\"https://colab.research.google.com/assets/colab-badge.svg\" alt=\"Open In Colab\"/></a>"
      ]
    },
    {
      "cell_type": "code",
      "execution_count": null,
      "metadata": {
        "id": "gWH2MO2M35_5"
      },
      "outputs": [],
      "source": [
        "!pip install transformers\n",
        "!pip install transformers[sentencepiece]"
      ]
    },
    {
      "cell_type": "code",
      "source": [
        "from transformers import pipeline\n",
        "\n",
        "sentiment_analysis = pipeline(\"sentiment-analysis\")\n",
        "sentiment_analysis([\n",
        "                    \"This is my first day at the college and i am excited.\",\"I am not feeling well today.\"\n",
        "])"
      ],
      "metadata": {
        "colab": {
          "base_uri": "https://localhost:8080/"
        },
        "id": "RPew2pXp4Ysm",
        "outputId": "e6243081-6e5e-4e6a-8237-51f5481bbcf2"
      },
      "execution_count": 20,
      "outputs": [
        {
          "output_type": "stream",
          "name": "stderr",
          "text": [
            "No model was supplied, defaulted to distilbert-base-uncased-finetuned-sst-2-english (https://huggingface.co/distilbert-base-uncased-finetuned-sst-2-english)\n"
          ]
        },
        {
          "output_type": "execute_result",
          "data": {
            "text/plain": [
              "[{'label': 'POSITIVE', 'score': 0.9998018145561218},\n",
              " {'label': 'NEGATIVE', 'score': 0.9997230172157288}]"
            ]
          },
          "metadata": {},
          "execution_count": 20
        }
      ]
    },
    {
      "cell_type": "code",
      "source": [
        "from transformers import AutoTokenizer\n",
        "\n",
        "checkpoint = \"distilbert-base-uncased-finetuned-sst-2-english\"\n",
        "tokenizer = AutoTokenizer.from_pretrained(checkpoint)\n",
        "\n",
        "raw_inputs = [\n",
        "              \"This is my first example for tokenizer.\",\n",
        "              \"This is very exciting work.\"\n",
        "]\n",
        "\n",
        "tensors = tokenizer(raw_inputs,padding=True, truncation=True, return_tensors=\"pt\")\n",
        "print(tensors)"
      ],
      "metadata": {
        "id": "r-LOC-Yb5qKK"
      },
      "execution_count": null,
      "outputs": []
    },
    {
      "cell_type": "code",
      "source": [
        "from transformers import AutoTokenizer, AutoModelForSequenceClassification\n",
        "import torch\n",
        "\n",
        "checkpoint = \"distilbert-base-uncased-finetuned-sst-2-english\"\n",
        "\n",
        "raw_input = [\n",
        "            \"This is my first example for tokenizer.\",\n",
        "              \"This is very exciting work.\" \n",
        "]\n",
        "\n",
        "#Load tokenizer\n",
        "tokenizer = AutoTokenizer.from_pretrained(checkpoint)\n",
        "\n",
        "inputs = tokenizer(raw_input, padding=True, truncation=True, return_tensors=\"pt\")\n",
        "\n",
        "#Load Model\n",
        "model = AutoModelForSequenceClassification.from_pretrained(checkpoint)\n",
        "print(\"ID to Label: \",model.config.id2label)\n",
        "\n",
        "outputs = model(**inputs)\n",
        "predictions = torch.nn.functional.softmax(outputs.logits, dim=-1)\n",
        "print(predictions)"
      ],
      "metadata": {
        "colab": {
          "base_uri": "https://localhost:8080/"
        },
        "id": "MKBl_1p7_tm9",
        "outputId": "72cdcac9-c1b1-4b61-f55a-207e44ec28cf"
      },
      "execution_count": 29,
      "outputs": [
        {
          "output_type": "stream",
          "name": "stdout",
          "text": [
            "ID to Label:  {0: 'NEGATIVE', 1: 'POSITIVE'}\n",
            "tensor([[9.2423e-02, 9.0758e-01],\n",
            "        [1.1544e-04, 9.9988e-01]], grad_fn=<SoftmaxBackward0>)\n"
          ]
        }
      ]
    },
    {
      "cell_type": "code",
      "source": [
        "#Model\n",
        "from transformers import BertModel,BertConfig\n",
        "\n",
        "config = BertConfig()\n",
        "\n",
        "model = BertModel(config)\n",
        "model_config = model.config\n",
        "\n",
        "print(model_config)"
      ],
      "metadata": {
        "id": "14_PNaC-FZIa"
      },
      "execution_count": null,
      "outputs": []
    },
    {
      "cell_type": "code",
      "source": [
        "from transformers import BertModel\n",
        "\n",
        "model = BertModel.from_pretrained(\"bert-base-cased\")\n",
        "print(model.config)\n",
        "model.save_pretrained(\"bert-base-cased-save\")"
      ],
      "metadata": {
        "id": "GyW5F9GwHJNM"
      },
      "execution_count": null,
      "outputs": []
    },
    {
      "cell_type": "code",
      "source": [
        "from transformers import BertModel,BertConfig,AutoTokenizer\n",
        "import torch\n",
        "\n",
        "bert_config = BertConfig()\n",
        "bert_model = BertModel(bert_config)\n",
        "\n",
        "input = [\"hello\",\"hi\",\"nice\"]\n",
        "\n",
        "tokenizer = AutoTokenizer.from_pretrained(\"bert-base-cased\")\n",
        "generated_outputs = tokenizer(input)\n",
        "generated_outputs.input_ids\n",
        "\n",
        "tensors = torch.tensor(generated_outputs.input_ids)\n",
        "\n",
        "bert_model(tensors)"
      ],
      "metadata": {
        "colab": {
          "base_uri": "https://localhost:8080/"
        },
        "id": "C53oDuwUJmKZ",
        "outputId": "93514bff-6b4f-4001-b3d5-bbaa2c8927b0"
      },
      "execution_count": 39,
      "outputs": [
        {
          "output_type": "execute_result",
          "data": {
            "text/plain": [
              "BaseModelOutputWithPoolingAndCrossAttentions([('last_hidden_state',\n",
              "                                               tensor([[[-1.1681,  0.4909,  0.3273,  ..., -1.2096,  0.3047, -0.6568],\n",
              "                                                        [-0.5905,  1.0227, -1.9977,  ..., -1.0848,  1.0147, -0.0248],\n",
              "                                                        [-1.8530, -0.1370, -0.1743,  ..., -0.0456, -0.2227, -0.4805]],\n",
              "                                               \n",
              "                                                       [[-0.9637, -0.6975, -0.8248,  ..., -1.0392,  1.7363, -0.6089],\n",
              "                                                        [-0.9310, -0.5639, -1.9487,  ..., -0.4325,  1.2210,  1.2063],\n",
              "                                                        [-1.1579, -0.4879, -0.6746,  ..., -0.4503,  0.8267,  0.8083]],\n",
              "                                               \n",
              "                                                       [[-0.5456,  0.7269, -0.1205,  ..., -1.6123, -0.5575,  0.3422],\n",
              "                                                        [-0.1160, -0.1461, -2.1446,  ..., -0.8269, -0.1379,  0.1925],\n",
              "                                                        [-0.9641, -0.8064, -0.0639,  ..., -0.9598, -1.3194,  0.3556]]],\n",
              "                                                      grad_fn=<NativeLayerNormBackward0>)),\n",
              "                                              ('pooler_output',\n",
              "                                               tensor([[ 0.8745, -0.4324,  0.6944,  ...,  0.1330, -0.2926,  0.0174],\n",
              "                                                       [ 0.2535, -0.1654,  0.4972,  ..., -0.2856,  0.6257, -0.3747],\n",
              "                                                       [ 0.3506, -0.4884,  0.7896,  ...,  0.1624,  0.5646, -0.2549]],\n",
              "                                                      grad_fn=<TanhBackward0>))])"
            ]
          },
          "metadata": {},
          "execution_count": 39
        }
      ]
    }
  ]
}